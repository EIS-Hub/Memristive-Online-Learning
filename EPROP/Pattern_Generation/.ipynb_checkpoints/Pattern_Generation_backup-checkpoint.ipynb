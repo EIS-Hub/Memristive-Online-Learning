{
 "cells": [
  {
   "cell_type": "code",
   "execution_count": 1,
   "metadata": {},
   "outputs": [],
   "source": [
    "import os\n",
    "import numpy as np\n",
    "import numpy.random as rd\n",
    "import matplotlib.pyplot as plt\n",
    "\n",
    "import torch\n",
    "from time import time\n",
    "\n",
    "from jupyterthemes import jtplot\n",
    "jtplot.style(theme='monokai', context='notebook', ticks=True, grid=False) ## for Dark plots\n",
    "#jtplot.style(theme='grade3')  ## for Light plots"
   ]
  },
  {
   "cell_type": "code",
   "execution_count": 2,
   "metadata": {},
   "outputs": [],
   "source": [
    "import sys\n",
    "sys.path.insert(1, r'C:\\Users\\FM261720\\Desktop\\Jupyter_Notebooks\\EPROP')\n",
    "from models import *"
   ]
  },
  {
   "cell_type": "code",
   "execution_count": 3,
   "metadata": {},
   "outputs": [],
   "source": [
    "params= {\n",
    "    'dtype'     : torch.float32,\n",
    "    'n_batch'     : 1,             # batch size of the testing set\n",
    "    'n_out'       : 1,             # number of output neurons (number of target curves)\n",
    "    'n_in'        : 100 ,          # number of input units\n",
    "    'n_rec'       : 100,           # number of recurrent units\n",
    "\n",
    "    'f0'          : 50 ,           # input firing rate\n",
    "    'reg_rate'    : 10 ,           # target rate for regularization\n",
    "\n",
    "    'n_iter'      : 2000 ,         # number of iterations/epochs\n",
    "    'seq_len'     : 200  ,         # number of time steps per sequence\n",
    "    'print_every' : 10  ,          # print statistics every K iterations\n",
    "\n",
    "    'dampening_factor' : 0.3,      # dampening factor to stabilize learning in RNNs\n",
    "    'learning_rate'  : 1e-4,       # learning rate\n",
    "    'reg'         : 0.1,           # regularization coefficient\n",
    "\n",
    "    'dt'          : 1. ,           # (ms) simulation step\n",
    "    'thr'         : 0.03,          # threshold at which the LSNN neurons spike (in arbitrary units)\n",
    "\n",
    "    'do_plot'     : True,          # interactive plots during training\n",
    "    'random_feedback' : False,     # use random feedback if true, otherwise take the symmetric of the readout weights\n",
    "    'stop_z_gradients' : True,    # stop gradients in the model dynamics to get mathematical equivalence between eprop and BPTT\n",
    "    'gradient_check' : True,       # verify that the gradients computed with e-prop match the gradients of BPTT\n",
    "    'eprop_or_bptt' : 'eprop',     # choose the learing rule, it should be `eprop` of `bptt`'\n",
    "    }\n",
    "\n",
    "# explicitate some of the parameters to lighten syntax\n",
    "dtype = params['dtype']\n",
    "\n",
    "# Experiment parameters\n",
    "dt = 1  # time step in ms\n",
    "input_f0 = params['f0'] / 1000  # input firing rate in kHz in coherence with the usage of ms for time\n",
    "regularization_f0 = params['reg_rate'] / 1000  # desired average firing rate in kHz\n",
    "tau_m = tau_m_readout = 30\n",
    "thr = params['thr']\n",
    "params['tau_m'] = tau_m\n",
    "params['tau_m_readout'] = tau_m_readout\n",
    "params['regularization_f0'] = regularization_f0"
   ]
  },
  {
   "cell_type": "code",
   "execution_count": 4,
   "metadata": {},
   "outputs": [],
   "source": [
    "file_load = r'C:\\Users\\FM261720\\Desktop\\Jupyter_Notebooks\\EPROP\\Pattern_Generation\\from_tf.npz'\n",
    "data = np.load( file_load ) \n",
    "frozen_poisson_noise_input  = data['frozen_poisson_noise_input']\n",
    "target_sinusoidal_outputs_tf  = data['target_sinusoidal_outputs']\n",
    "w_out_tf = data['w_out']\n",
    "z_tf = data['z']\n",
    "v_tf = data['v']\n",
    "eprop_grads_np_in = data['eprop_grads_np_in']\n",
    "eprop_grads_np_rec = data['eprop_grads_np_rec']\n",
    "eprop_grads_np_out = data['eprop_grads_np_out']\n",
    "true_grads_np_in = data['true_grads_np_in']\n",
    "true_grads_np_rec = data['true_grads_np_rec']\n",
    "true_grads_np_out = data['true_grads_np_out']\n",
    "w_rec_tf = data['w_rec']\n",
    "w_in_tf = data['w_in']\n",
    "decay = data['decay']"
   ]
  },
  {
   "cell_type": "code",
   "execution_count": 5,
   "metadata": {},
   "outputs": [],
   "source": [
    "import pickle\n",
    "infile = open(r\"C:\\Users\\FM261720\\Desktop\\Jupyter_Notebooks\\EPROP\\Pattern_Generation\\results.pkl\",'rb')\n",
    "results_values = pickle.load(infile)\n",
    "infile.close()"
   ]
  },
  {
   "cell_type": "code",
   "execution_count": 6,
   "metadata": {},
   "outputs": [],
   "source": [
    "cell = LightLIF(n_in=params['n_in'], n_rec=params['n_rec'], tau=tau_m, thr=thr, dt=dt,\n",
    "                dampening_factor=params['dampening_factor'],\n",
    "                stop_z_gradients=params['stop_z_gradients'])\n",
    "\n",
    "cell.w_in_var = torch.nn.Parameter( torch.from_numpy( w_in_tf ).type(dtype=dtype) )\n",
    "cell.w_rec_var = torch.nn.Parameter( torch.from_numpy( w_rec_tf ).type(dtype=dtype) )"
   ]
  },
  {
   "cell_type": "code",
   "execution_count": 7,
   "metadata": {},
   "outputs": [],
   "source": [
    "# build the input pattern\n",
    "# dimentions: [batch=1, time_steps=1000, neurons=1]\n",
    "#frozen_poisson_noise_input = np.random.rand(params['n_batch'], params['seq_len'], params['n_in']) < dt * input_f0\n",
    "input_spikes = torch.from_numpy(frozen_poisson_noise_input).type( dtype=dtype )\n",
    "\n",
    "# build the output pattern (note that the [None,:] adds an extra dimension of size 1 to the tensor)\n",
    "# dimentions: [batch=1, time_steps=1000, neurons=1]\n",
    "#target_sinusoidal_outputs = [sum_of_sines_target(params['seq_len'])[None, :] for i in range(params['n_out'])]\n",
    "#target_sinusoidal_outputs = torch.from_numpy(np.stack(target_sinusoidal_outputs, axis=2)).type(dtype=dtype)\n",
    "target_sinusoidal_outputs = torch.from_numpy(target_sinusoidal_outputs_tf).type(dtype=dtype)"
   ]
  },
  {
   "cell_type": "code",
   "execution_count": 8,
   "metadata": {},
   "outputs": [],
   "source": [
    "def forward( input_spikes, dtype=torch.float32 ):\n",
    "    '''\n",
    "    Simply computing the forward pass\n",
    "    '''\n",
    "    state = cell.zero_state(input_spikes.size(0), dtype=dtype)\n",
    "    z, v = [], []\n",
    "    for t in range( input_spikes.size(1) ):\n",
    "        out, state = cell( input_spikes[:,t], state )\n",
    "        z.append(out[0]); v.append(out[1])\n",
    "    z = torch.stack(z, dim=1)\n",
    "    v = torch.stack(v, dim=1)\n",
    "    return z, v \n",
    "\n",
    "def compute_loss( z, w_out, target_sinusoidal_outputs ):\n",
    "    output_current = torch.einsum('bti,ik->btk', z, w_out)\n",
    "    readout_decay = torch.tensor( np.exp(-params['dt'] / params['tau_m_readout']) ).float()\n",
    "    output = exp_convolve(output_current, decay=readout_decay)\n",
    "    output_error = output - target_sinusoidal_outputs\n",
    "    # MSE loss\n",
    "    loss = 0.5 * torch.mean(output_error ** 2)\n",
    "\n",
    "    # regularization loss reducing the spiking activity\n",
    "    av = torch.mean(z, dim=(0, 1)) / params['dt']\n",
    "    average_firing_rate_error = av - params['regularization_f0']\n",
    "    loss_reg = 0.5 * torch.sum(average_firing_rate_error ** 2)\n",
    "\n",
    "    overall_loss = loss_reg * params['reg'] + loss\n",
    "    return overall_loss, average_firing_rate_error, output_error, output_error\n",
    "\n",
    "def calculate_true_gradient( overall_loss ):\n",
    "    '''\n",
    "    Takes the loss function as input and produces the \n",
    "    gradient calculated with the surrogate gradient technique\n",
    "    '''\n",
    "    var_list = [cell.w_in_var, cell.w_rec_val, w_out]\n",
    "    return torch.autograd.grad(overall_loss, var_list, retain_graph=True), var_list\n",
    "\n",
    "def calculate_eligibility_trace( v, z, output_error, average_firing_rate_error ):\n",
    "    '''\n",
    "    Performs the calculation of the gradient in a simular fashion than e-prop\n",
    "    '''\n",
    "    v_scaled = (v - params['thr']) / params['thr'] # voltage scaled to be 0 at threshold and -1 at rest\n",
    "    post_term = pseudo_derivative(v_scaled, params['dampening_factor']) / params['thr'] # non-linear function of the voltage\n",
    "    z_previous_time = shift_by_one_time_step(z) # z(t-1) instead of z(t)\n",
    "\n",
    "    pre_term_w_in = exp_convolve(input_spikes, decay=cell._decay)\n",
    "    pre_term_w_rec = exp_convolve(z_previous_time, decay=cell._decay)\n",
    "    pre_term_w_out = exp_convolve(z, decay=cell._decay)\n",
    "    \n",
    "    # for PCMprop develop next lines\n",
    "    #pre_term_w_in_pcm = pcm_convolve(input_spikes, nu)\n",
    "    #pre_term_w_rec_pcm = pcm_convolve(z_previous_time, nu)\n",
    "    #pre_term_w_out_pcm = pcm_convolve(z, nu)\n",
    "\n",
    "    eligibility_traces_w_in = post_term[:, :, None, :] * pre_term_w_in[:, :, :, None]\n",
    "    eligibility_traces_w_rec = post_term[:, :, None, :] * pre_term_w_rec[:, :, :, None]\n",
    "\n",
    "    # To define the gradient of the readout error,\n",
    "    # the eligibility traces are smoothed with the same filter as the readout\n",
    "    eligibility_traces_convolved_w_in = exp_convolve(eligibility_traces_w_in, decay=readout_decay)\n",
    "    eligibility_traces_convolved_w_rec = exp_convolve(eligibility_traces_w_rec, decay=readout_decay)\n",
    "\n",
    "    # To define the gradient of the regularization error defined on the averaged firing rate,\n",
    "    # the eligibility traces should be averaged over time\n",
    "    eligibility_traces_averaged_w_in = torch.mean(eligibility_traces_w_in, axis=(0, 1))\n",
    "    eligibility_traces_averaged_w_rec = torch.mean(eligibility_traces_w_rec, axis=(0, 1))\n",
    "\n",
    "    if params['random_feedback']:\n",
    "        B_random = torch.from_numpy(np.random.randn(params['n_rec'], params['n_out']) / np.sqrt(params['n_rec']) ).type(dtype=params['dtype'])\n",
    "    else:\n",
    "        B_random = w_out.clone() # better performance is obtained with the true error feed-backs\n",
    "    learning_signals = torch.einsum('btk,jk->btj', output_error, B_random)\n",
    "\n",
    "    # gradients of the main loss with respect to the weights\n",
    "    dloss_dw_out = torch.sum(output_error[:, :, None, :] * pre_term_w_out[:, :, :, None], axis=(0, 1))\n",
    "    dloss_dw_in = torch.sum(learning_signals[:, :, None, :] * eligibility_traces_convolved_w_in, axis=(0, 1))\n",
    "    dloss_dw_rec = torch.sum(learning_signals[:, :, None, :] * eligibility_traces_convolved_w_rec, axis=(0, 1))\n",
    "\n",
    "    # gradients of the regularization loss with respect to the weights\n",
    "    dreg_loss_dw_in = average_firing_rate_error * eligibility_traces_averaged_w_in\n",
    "    dreg_loss_dw_rec = average_firing_rate_error * eligibility_traces_averaged_w_rec\n",
    "\n",
    "    # combine the gradients\n",
    "    dloss_dw_in = dloss_dw_in + dreg_loss_dw_in * params['reg']\n",
    "    dloss_dw_rec = dloss_dw_rec + dreg_loss_dw_rec * params['reg']\n",
    "\n",
    "    # Somewhat important detail: self connection are disabled therefore gradients on the diagonal are zeros\n",
    "    mask_autotapse = torch.diag(torch.ones(params['n_rec'])).bool()\n",
    "    dloss_dw_rec = torch.where(mask_autotapse, torch.zeros_like(dloss_dw_rec), dloss_dw_rec)\n",
    "\n",
    "    # put the resulting gradients into lists\n",
    "    var_list = [cell.w_in_var, cell.w_rec_val, w_out]\n",
    "    eprop_gradients = [dloss_dw_in, dloss_dw_rec, dloss_dw_out]\n",
    "    return eprop_gradients, var_list\n",
    "        \n",
    "        \n",
    "def calculate_eligibility_trace_pcm( v, z, output_error, average_firing_rate_error ):\n",
    "    '''\n",
    "    Performs the calculation of the gradient in a simular fashion than e-prop\n",
    "    '''\n",
    "    v_scaled = (v - params['thr']) / params['thr'] # voltage scaled to be 0 at threshold and -1 at rest\n",
    "    post_term = pseudo_derivative(v_scaled, params['dampening_factor']) / params['thr'] # non-linear function of the voltage\n",
    "    z_previous_time = shift_by_one_time_step(z) # z(t-1) instead of z(t)\n",
    "    \n",
    "    # for PCMprop develop next lines\n",
    "    pre_term_w_in = pcm_convolve(input_spikes, nu)\n",
    "    pre_term_w_rec = pcm_convolve(z_previous_time, nu)\n",
    "    pre_term_w_out = pcm_convolve(z, nu)\n",
    "\n",
    "    eligibility_traces_w_in = post_term[:, :, None, :] * pre_term_w_in[:, :, :, None]\n",
    "    eligibility_traces_w_rec = post_term[:, :, None, :] * pre_term_w_rec[:, :, :, None]\n",
    "\n",
    "    # To define the gradient of the readout error,\n",
    "    # the eligibility traces are smoothed with the same filter as the readout\n",
    "    eligibility_traces_convolved_w_in = pcm_convolve(eligibility_traces_w_in, decay=readout_decay)\n",
    "    eligibility_traces_convolved_w_rec = pcm_convolve(eligibility_traces_w_rec, decay=readout_decay)\n",
    "\n",
    "    # To define the gradient of the regularization error defined on the averaged firing rate,\n",
    "    # the eligibility traces should be averaged over time\n",
    "    eligibility_traces_averaged_w_in = torch.mean(eligibility_traces_w_in, axis=(0, 1))\n",
    "    eligibility_traces_averaged_w_rec = torch.mean(eligibility_traces_w_rec, axis=(0, 1))\n",
    "\n",
    "    if params['random_feedback']:\n",
    "        B_random = torch.from_numpy(np.random.randn(params['n_rec'], params['n_out']) / np.sqrt(params['n_rec']) ).type(dtype=params['dtype'])\n",
    "    else:\n",
    "        B_random = w_out.clone() # better performance is obtained with the true error feed-backs\n",
    "    learning_signals = torch.einsum('btk,jk->btj', output_error, B_random)\n",
    "\n",
    "    # gradients of the main loss with respect to the weights\n",
    "    dloss_dw_out = torch.sum(output_error[:, :, None, :] * pre_term_w_out[:, :, :, None], axis=(0, 1))\n",
    "    dloss_dw_in = torch.sum(learning_signals[:, :, None, :] * eligibility_traces_convolved_w_in, axis=(0, 1))\n",
    "    dloss_dw_rec = torch.sum(learning_signals[:, :, None, :] * eligibility_traces_convolved_w_rec, axis=(0, 1))\n",
    "\n",
    "    # gradients of the regularization loss with respect to the weights\n",
    "    dreg_loss_dw_in = average_firing_rate_error * eligibility_traces_averaged_w_in\n",
    "    dreg_loss_dw_rec = average_firing_rate_error * eligibility_traces_averaged_w_rec\n",
    "\n",
    "    # combine the gradients\n",
    "    dloss_dw_in = dloss_dw_in + dreg_loss_dw_in * params['reg']\n",
    "    dloss_dw_rec = dloss_dw_rec + dreg_loss_dw_rec * params['reg']\n",
    "\n",
    "    # Somewhat important detail: self connection are disabled therefore gradients on the diagonal are zeros\n",
    "    mask_autotapse = torch.diag(torch.ones(params['n_rec'])).bool()\n",
    "    dloss_dw_rec = torch.where(mask_autotapse, torch.zeros_like(dloss_dw_rec), dloss_dw_rec)\n",
    "\n",
    "    # put the resulting gradients into lists\n",
    "    var_list = [cell.w_in_var, cell.w_rec_var, w_out]\n",
    "    pcmprop_gradients = [dloss_dw_in, dloss_dw_rec, dloss_dw_out]\n",
    "\n",
    "    return pcmprop_gradients, var_list\n",
    "\n",
    "def weight_update_SGD( eprop_gradients, var_list ):\n",
    "    '''\n",
    "    performing the weight update\n",
    "    '''\n",
    "    with torch.no_grad():\n",
    "        for v, var in enumerate(var_list): \n",
    "            var -= params['learning_rate'] * eprop_gradients[v]\n",
    "            var.grad = None"
   ]
  },
  {
   "cell_type": "markdown",
   "metadata": {},
   "source": [
    "# SINGLE TRAIN EPOCH, FOR DEBUGGING"
   ]
  },
  {
   "cell_type": "code",
   "execution_count": 9,
   "metadata": {},
   "outputs": [],
   "source": [
    "input_spikes_ = torch.zeros_like( input_spikes )\n",
    "input_spikes_[:,[2],10] = 5.0\n",
    "\n",
    "# Example of forward pass with the LIF neuron module\n",
    "state = cell.zero_state(input_spikes.size(0), dtype=dtype)\n",
    "z, v = [], []\n",
    "for t in range( input_spikes.size(1) ):\n",
    "    out, state = cell( input_spikes_[:,t], state )\n",
    "    z.append(state.z); v.append(state.v)\n",
    "z = torch.stack(z, dim=1)\n",
    "v = torch.stack(v, dim=1)"
   ]
  },
  {
   "cell_type": "code",
   "execution_count": 10,
   "metadata": {},
   "outputs": [
    {
     "data": {
      "text/plain": [
       "[<matplotlib.lines.Line2D at 0x1a6c39f49e8>,\n",
       " <matplotlib.lines.Line2D at 0x1a6c39f4b38>,\n",
       " <matplotlib.lines.Line2D at 0x1a6c39f4c88>,\n",
       " <matplotlib.lines.Line2D at 0x1a6c39f4dd8>,\n",
       " <matplotlib.lines.Line2D at 0x1a6c39f4f28>,\n",
       " <matplotlib.lines.Line2D at 0x1a6c3a060b8>,\n",
       " <matplotlib.lines.Line2D at 0x1a6c3a06208>,\n",
       " <matplotlib.lines.Line2D at 0x1a6c3a06358>,\n",
       " <matplotlib.lines.Line2D at 0x1a6c3a064a8>,\n",
       " <matplotlib.lines.Line2D at 0x1a6c3a065f8>,\n",
       " <matplotlib.lines.Line2D at 0x1a6c3a06748>,\n",
       " <matplotlib.lines.Line2D at 0x1a6c3a06898>,\n",
       " <matplotlib.lines.Line2D at 0x1a6c3a069e8>,\n",
       " <matplotlib.lines.Line2D at 0x1a6c3a06b38>,\n",
       " <matplotlib.lines.Line2D at 0x1a6c3a06c88>,\n",
       " <matplotlib.lines.Line2D at 0x1a6c3a06dd8>,\n",
       " <matplotlib.lines.Line2D at 0x1a6c3a06f28>,\n",
       " <matplotlib.lines.Line2D at 0x1a6c3a0a0b8>,\n",
       " <matplotlib.lines.Line2D at 0x1a6c3a0a208>,\n",
       " <matplotlib.lines.Line2D at 0x1a6c3a0a358>,\n",
       " <matplotlib.lines.Line2D at 0x1a6c3a0a4a8>,\n",
       " <matplotlib.lines.Line2D at 0x1a6c3963588>,\n",
       " <matplotlib.lines.Line2D at 0x1a6c3a0a710>,\n",
       " <matplotlib.lines.Line2D at 0x1a6c3a0a860>,\n",
       " <matplotlib.lines.Line2D at 0x1a6c3a0a9b0>,\n",
       " <matplotlib.lines.Line2D at 0x1a6c3a0ab00>,\n",
       " <matplotlib.lines.Line2D at 0x1a6c3a0ac50>,\n",
       " <matplotlib.lines.Line2D at 0x1a6c3a0ada0>,\n",
       " <matplotlib.lines.Line2D at 0x1a6c3a0aef0>,\n",
       " <matplotlib.lines.Line2D at 0x1a6c3a0e080>,\n",
       " <matplotlib.lines.Line2D at 0x1a6c3a0e1d0>,\n",
       " <matplotlib.lines.Line2D at 0x1a6c3a0e320>,\n",
       " <matplotlib.lines.Line2D at 0x1a6c3a0e470>,\n",
       " <matplotlib.lines.Line2D at 0x1a6c3a0e5c0>,\n",
       " <matplotlib.lines.Line2D at 0x1a6c3a0e710>,\n",
       " <matplotlib.lines.Line2D at 0x1a6c3a0e860>,\n",
       " <matplotlib.lines.Line2D at 0x1a6c3a0e9b0>,\n",
       " <matplotlib.lines.Line2D at 0x1a6c3a0eb00>,\n",
       " <matplotlib.lines.Line2D at 0x1a6c3a0ec50>,\n",
       " <matplotlib.lines.Line2D at 0x1a6c3a0eda0>,\n",
       " <matplotlib.lines.Line2D at 0x1a6c3a0eef0>,\n",
       " <matplotlib.lines.Line2D at 0x1a6c3a13080>,\n",
       " <matplotlib.lines.Line2D at 0x1a6c3a131d0>,\n",
       " <matplotlib.lines.Line2D at 0x1a6c3a13320>,\n",
       " <matplotlib.lines.Line2D at 0x1a6c3a13470>,\n",
       " <matplotlib.lines.Line2D at 0x1a6c3a135c0>,\n",
       " <matplotlib.lines.Line2D at 0x1a6c3a13710>,\n",
       " <matplotlib.lines.Line2D at 0x1a6c3a13860>,\n",
       " <matplotlib.lines.Line2D at 0x1a6c3a139b0>,\n",
       " <matplotlib.lines.Line2D at 0x1a6c3a13b00>,\n",
       " <matplotlib.lines.Line2D at 0x1a6c3a13c50>,\n",
       " <matplotlib.lines.Line2D at 0x1a6c3a13da0>,\n",
       " <matplotlib.lines.Line2D at 0x1a6c3a13ef0>,\n",
       " <matplotlib.lines.Line2D at 0x1a6c3a16080>,\n",
       " <matplotlib.lines.Line2D at 0x1a6c3a161d0>,\n",
       " <matplotlib.lines.Line2D at 0x1a6c3a16320>,\n",
       " <matplotlib.lines.Line2D at 0x1a6c3a16470>,\n",
       " <matplotlib.lines.Line2D at 0x1a6c3a165c0>,\n",
       " <matplotlib.lines.Line2D at 0x1a6c3a16710>,\n",
       " <matplotlib.lines.Line2D at 0x1a6c3a16860>,\n",
       " <matplotlib.lines.Line2D at 0x1a6c3a169b0>,\n",
       " <matplotlib.lines.Line2D at 0x1a6c3a16b00>,\n",
       " <matplotlib.lines.Line2D at 0x1a6c3a16c50>,\n",
       " <matplotlib.lines.Line2D at 0x1a6c3a16da0>,\n",
       " <matplotlib.lines.Line2D at 0x1a6c3a16ef0>,\n",
       " <matplotlib.lines.Line2D at 0x1a6c3a1b080>,\n",
       " <matplotlib.lines.Line2D at 0x1a6c3a1b1d0>,\n",
       " <matplotlib.lines.Line2D at 0x1a6c3a1b320>,\n",
       " <matplotlib.lines.Line2D at 0x1a6c3a1b470>,\n",
       " <matplotlib.lines.Line2D at 0x1a6c3a1b5c0>,\n",
       " <matplotlib.lines.Line2D at 0x1a6c3a1b710>,\n",
       " <matplotlib.lines.Line2D at 0x1a6c3a1b860>,\n",
       " <matplotlib.lines.Line2D at 0x1a6c3a1b9b0>,\n",
       " <matplotlib.lines.Line2D at 0x1a6c3a1bb00>,\n",
       " <matplotlib.lines.Line2D at 0x1a6c3a1bc50>,\n",
       " <matplotlib.lines.Line2D at 0x1a6c3a1bda0>,\n",
       " <matplotlib.lines.Line2D at 0x1a6c3a1bef0>,\n",
       " <matplotlib.lines.Line2D at 0x1a6c3a1f080>,\n",
       " <matplotlib.lines.Line2D at 0x1a6c3a1f1d0>,\n",
       " <matplotlib.lines.Line2D at 0x1a6c3a1f320>,\n",
       " <matplotlib.lines.Line2D at 0x1a6c3a1f470>,\n",
       " <matplotlib.lines.Line2D at 0x1a6c3a1f5c0>,\n",
       " <matplotlib.lines.Line2D at 0x1a6c3a1f710>,\n",
       " <matplotlib.lines.Line2D at 0x1a6c3a1f860>,\n",
       " <matplotlib.lines.Line2D at 0x1a6c3a1f9b0>,\n",
       " <matplotlib.lines.Line2D at 0x1a6c3a1fb00>,\n",
       " <matplotlib.lines.Line2D at 0x1a6c3a1fc50>,\n",
       " <matplotlib.lines.Line2D at 0x1a6c3a1fda0>,\n",
       " <matplotlib.lines.Line2D at 0x1a6c3a1fef0>,\n",
       " <matplotlib.lines.Line2D at 0x1a6c3a24080>,\n",
       " <matplotlib.lines.Line2D at 0x1a6c3a241d0>,\n",
       " <matplotlib.lines.Line2D at 0x1a6c3a24320>,\n",
       " <matplotlib.lines.Line2D at 0x1a6c3a24470>,\n",
       " <matplotlib.lines.Line2D at 0x1a6c3a245c0>,\n",
       " <matplotlib.lines.Line2D at 0x1a6c3a24710>,\n",
       " <matplotlib.lines.Line2D at 0x1a6c3a24860>,\n",
       " <matplotlib.lines.Line2D at 0x1a6c3a249b0>,\n",
       " <matplotlib.lines.Line2D at 0x1a6c3a24b00>,\n",
       " <matplotlib.lines.Line2D at 0x1a6c3a24c50>,\n",
       " <matplotlib.lines.Line2D at 0x1a6c3a24da0>]"
      ]
     },
     "execution_count": 10,
     "metadata": {},
     "output_type": "execute_result"
    },
    {
     "data": {
      "image/png": "[encoded data removed]",
      "text/plain": [
       "<Figure size 432x288 with 1 Axes>"
      ]
     },
     "metadata": {
      "needs_background": "dark"
     },
     "output_type": "display_data"
    }
   ],
   "source": [
    "plt.plot( (v.detach().numpy() )[0,:,:] )"
   ]
  },
  {
   "cell_type": "code",
   "execution_count": 11,
   "metadata": {},
   "outputs": [
    {
     "data": {
      "text/plain": [
       "<matplotlib.image.AxesImage at 0x1a6c4b5a438>"
      ]
     },
     "execution_count": 11,
     "metadata": {},
     "output_type": "execute_result"
    },
    {
     "data": {
      "image/png": "[encoded data removed]",
      "text/plain": [
       "<Figure size 432x288 with 1 Axes>"
      ]
     },
     "metadata": {
      "needs_background": "dark"
     },
     "output_type": "display_data"
    }
   ],
   "source": [
    "plt.imshow( z[0].detach().numpy().T )"
   ]
  },
  {
   "cell_type": "code",
   "execution_count": 9,
   "metadata": {},
   "outputs": [],
   "source": [
    "#### SINGLE TRAIN EPOCH, FOR DEBUGGING ####\n",
    "\n",
    "# Example of forward pass with the LIF neuron module\n",
    "state = cell.zero_state(input_spikes.size(0), dtype=dtype)\n",
    "z, v = [], []\n",
    "for t in range( input_spikes.size(1) ):\n",
    "    out, state = cell( input_spikes[:,t], state )\n",
    "    z.append(state.z); v.append(state.v)\n",
    "z = torch.stack(z, dim=1)\n",
    "v = torch.stack(v, dim=1)\n",
    "\n",
    "# output loss\n",
    "#w_out = torch.nn.Parameter( torch.randn( params['n_rec'], params['n_out'] )/np.sqrt( params['n_rec'] ) ).type(dtype=dtype)\n",
    "w_out = torch.nn.Parameter( torch.from_numpy( w_out_tf ).type(dtype=dtype) )\n",
    "output_current = torch.einsum('bti,ik->btk', z, w_out)\n",
    "#readout_decay = torch.tensor( np.exp(-params['dt'] / params['tau_m_readout']) ).item()\n",
    "readout_decay = np.exp(-params['dt'] / params['tau_m_readout'])\n",
    "output = exp_convolve(output_current, decay=readout_decay)\n",
    "output_error = output - target_sinusoidal_outputs\n",
    "loss = 0.5 * torch.sum(output_error ** 2)\n",
    "\n",
    "# regularization loss\n",
    "av = torch.mean(z, dim=(0, 1)) / params['dt']\n",
    "average_firing_rate_error = av - regularization_f0\n",
    "loss_reg = 0.5 * torch.sum(average_firing_rate_error ** 2)\n",
    "\n",
    "overall_loss = loss_reg * params['reg'] + loss"
   ]
  },
  {
   "cell_type": "code",
   "execution_count": 10,
   "metadata": {},
   "outputs": [
    {
     "data": {
      "text/plain": [
       "<matplotlib.image.AxesImage at 0x2615bb71908>"
      ]
     },
     "execution_count": 10,
     "metadata": {},
     "output_type": "execute_result"
    },
    {
     "data": {
      "image/png": "[encoded data removed]",
      "text/plain": [
       "<Figure size 432x288 with 1 Axes>"
      ]
     },
     "metadata": {
      "needs_background": "dark"
     },
     "output_type": "display_data"
    }
   ],
   "source": [
    "plt.imshow( (z.detach().numpy() - z_tf )[0].T )"
   ]
  },
  {
   "cell_type": "code",
   "execution_count": 11,
   "metadata": {},
   "outputs": [
    {
     "data": {
      "text/plain": [
       "[<matplotlib.lines.Line2D at 0x2615bbe8978>]"
      ]
     },
     "execution_count": 11,
     "metadata": {},
     "output_type": "execute_result"
    },
    {
     "data": {
      "image/png": "[encoded data removed]",
      "text/plain": [
       "<Figure size 432x288 with 1 Axes>"
      ]
     },
     "metadata": {
      "needs_background": "dark"
     },
     "output_type": "display_data"
    }
   ],
   "source": [
    "plt.plot( (v.detach().numpy() )[0,:,10] )\n",
    "#plt.plot( (v_debug.detach().numpy() )[0,:,10] )\n",
    "plt.plot( (results_values['v'])[0,:,10] )"
   ]
  },
  {
   "cell_type": "code",
   "execution_count": 31,
   "metadata": {},
   "outputs": [],
   "source": [
    "step = 10\n",
    "#i_t = torch.matmul(input_spikes[:,0], cell.w_in_var) + torch.matmul(z, cell.w_rec_val)\n",
    "i_t = torch.matmul(input_spikes[:,step], torch.from_numpy(w_in_tf) ) +\\\n",
    "                    torch.matmul( torch.from_numpy(z_tf[:,step]), torch.from_numpy(w_rec_tf))\n",
    "I_reset = z_tf[:,step] * cell.thr * cell.dt\n",
    "new_v = cell._decay * torch.from_numpy( v_tf[:,step] ) + (1 - cell._decay) * i_t - I_reset"
   ]
  },
  {
   "cell_type": "code",
   "execution_count": 15,
   "metadata": {},
   "outputs": [],
   "source": [
    "step = 10\n",
    "#i_t = torch.matmul(input_spikes[:,0], cell.w_in_var) + torch.matmul(z, cell.w_rec_val)\n",
    "i_t = np.matmul(input_spikes[:,step].numpy(), w_in_tf ) +\\\n",
    "                    np.matmul( z_tf[:,step], w_rec_tf)\n",
    "I_reset = z_tf[:,step] * cell.thr * cell.dt\n",
    "new_v = cell._decay * v_tf[:,step] + (1 - cell._decay) * i_t - I_reset"
   ]
  },
  {
   "cell_type": "code",
   "execution_count": 39,
   "metadata": {
    "collapsed": true
   },
   "outputs": [
    {
     "data": {
      "text/plain": [
       "tensor([[-4.6894e-03,  3.7195e-02,  6.9393e-03, -2.0843e-02, -1.8184e-02,\n",
       "         -9.9876e-02, -2.2407e-03, -5.3176e-03,  1.0205e-02,  1.9278e-02,\n",
       "         -2.4406e-02, -4.9991e-02,  2.5563e-02,  4.8250e-03,  2.1126e-02,\n",
       "         -2.0951e-02, -5.0277e-02, -2.6995e-02,  6.0940e-03,  2.7407e-02,\n",
       "         -1.7779e-02, -1.8323e-02, -2.9501e-02, -1.9322e-02, -1.9585e-02,\n",
       "         -1.5214e-02, -1.0188e-02, -2.3413e-02, -9.5680e-03,  1.5768e-02,\n",
       "         -4.4856e-03,  1.0472e-03, -3.7813e-02,  3.5304e-02, -5.0469e-02,\n",
       "          1.3569e-02,  2.2103e-02, -3.7871e-02, -8.5376e-03, -2.0247e-02,\n",
       "          8.3008e-03,  4.1119e-02, -1.6585e-02, -4.6734e-02,  1.1474e-02,\n",
       "         -1.8615e-02, -6.3829e-03, -3.9262e-02,  2.9194e-02, -1.1114e-02,\n",
       "         -4.7451e-02, -1.4623e-03, -1.7111e-02, -1.9373e-02, -2.9780e-02,\n",
       "         -2.5968e-03, -2.3296e-02,  2.0810e-02, -1.9561e-02, -1.3886e-03,\n",
       "         -5.4683e-02,  2.2398e-02, -1.9343e-02,  6.7585e-03,  1.8247e-02,\n",
       "         -5.3504e-03, -1.9437e-02,  1.3545e-02,  7.6583e-03, -1.3672e-06,\n",
       "          5.6254e-03,  1.1751e-02, -4.3505e-02, -2.5649e-02,  3.6664e-02,\n",
       "          7.1441e-03,  2.7214e-02,  2.1849e-02, -3.8821e-02,  3.3140e-02,\n",
       "          2.6421e-02,  2.5446e-02, -3.6337e-03, -1.5278e-02, -3.3422e-02,\n",
       "         -7.0956e-02, -1.3997e-02, -3.9063e-02,  1.2014e-02,  1.4454e-02,\n",
       "          5.5418e-03, -2.6080e-02, -1.0224e-02, -1.9318e-02, -1.4066e-02,\n",
       "         -1.5842e-02,  1.7255e-02,  9.2922e-03,  2.5110e-02, -4.2207e-02]],\n",
       "       grad_fn=<SubBackward0>)"
      ]
     },
     "execution_count": 39,
     "metadata": {},
     "output_type": "execute_result"
    }
   ],
   "source": [
    "new_v"
   ]
  },
  {
   "cell_type": "code",
   "execution_count": 43,
   "metadata": {
    "collapsed": true
   },
   "outputs": [
    {
     "data": {
      "text/plain": [
       "tensor([ 1.7059e-03,  1.4715e-02,  1.1870e-02, -1.5590e-02, -2.3000e-02,\n",
       "        -1.0137e-01, -9.3711e-03, -1.4098e-04,  1.1163e-02,  1.1213e-02,\n",
       "        -2.4604e-02, -4.9738e-02,  1.6602e-02,  1.6919e-02,  7.4000e-03,\n",
       "        -1.8618e-02, -2.5754e-02, -3.9453e-02, -3.7497e-04,  2.0360e-02,\n",
       "        -2.1962e-02, -2.9712e-02, -2.7124e-02, -1.7661e-02, -2.0157e-02,\n",
       "        -3.5535e-02, -1.5735e-03, -3.0245e-02, -1.2150e-02,  2.6098e-02,\n",
       "        -3.0656e-02,  1.4652e-02, -2.0750e-02,  1.5951e-02, -3.6381e-02,\n",
       "        -2.1896e-02, -5.4641e-03, -2.9266e-02, -1.1818e-02,  5.3981e-03,\n",
       "        -3.4422e-03,  3.2575e-03, -1.7819e-02, -2.6613e-02,  9.4127e-03,\n",
       "         1.3076e-03, -9.2326e-04, -3.2657e-02,  2.2401e-02,  3.9253e-03,\n",
       "        -1.8603e-02,  1.3193e-02, -1.4376e-02, -1.0043e-02, -2.5529e-02,\n",
       "         8.2373e-06, -1.7380e-02,  3.1174e-03, -2.9231e-02,  5.3627e-03,\n",
       "        -5.3329e-02,  1.5647e-02, -5.0843e-03, -4.3976e-04,  7.7370e-03,\n",
       "         2.6471e-03, -9.9291e-04,  1.8277e-02,  7.5441e-03, -7.1738e-03,\n",
       "        -2.3538e-03,  5.5251e-04, -4.4086e-02, -2.1622e-02,  2.2773e-02,\n",
       "         7.6719e-03, -6.1384e-03,  1.7646e-02, -2.7988e-02,  4.7011e-04,\n",
       "         3.0353e-02,  2.2692e-02, -1.8018e-02, -1.8801e-02, -3.1004e-02,\n",
       "        -7.9008e-02, -1.5776e-03, -3.8334e-02, -1.5819e-03,  2.5274e-02,\n",
       "        -6.9843e-04, -2.7207e-02, -8.0699e-03, -1.9925e-02, -1.0829e-03,\n",
       "         2.7728e-03,  2.3312e-02,  2.8518e-02,  2.2283e-02, -2.5433e-02],\n",
       "       grad_fn=<SliceBackward>)"
      ]
     },
     "execution_count": 43,
     "metadata": {},
     "output_type": "execute_result"
    }
   ],
   "source": [
    "v[0,12,:]"
   ]
  },
  {
   "cell_type": "code",
   "execution_count": 16,
   "metadata": {
    "collapsed": true
   },
   "outputs": [
    {
     "data": {
      "text/plain": [
       "array([[-0.02020015,  0.00278748, -0.03191763,  0.0014757 , -0.00451339,\n",
       "         0.03160568,  0.02662695, -0.02178719,  0.0360561 ,  0.01076357,\n",
       "        -0.06799572,  0.01739101, -0.00467109, -0.00172029,  0.02257215,\n",
       "         0.02277338,  0.00224667,  0.01926322,  0.00767958, -0.00136794,\n",
       "         0.02769976,  0.00028316,  0.01460229,  0.01179325, -0.00594553,\n",
       "        -0.01431212, -0.01541983, -0.00562325,  0.00567976, -0.03647922,\n",
       "        -0.03444003, -0.01703587,  0.00111038, -0.0111174 , -0.00461997,\n",
       "         0.01602479, -0.04465773,  0.00016909,  0.01280602,  0.00429158,\n",
       "        -0.00579798,  0.01946513,  0.0391281 ,  0.03299217,  0.01175382,\n",
       "         0.01816658,  0.02549778,  0.01010099,  0.01678701,  0.00721347,\n",
       "         0.00244893,  0.0207422 , -0.0181583 , -0.003602  , -0.04260161,\n",
       "        -0.043531  ,  0.02187997, -0.02826129, -0.02002527,  0.00557713,\n",
       "         0.00746153,  0.01006613,  0.00090048, -0.03594401,  0.00963006,\n",
       "         0.02148823,  0.00758114,  0.00378199, -0.03107832,  0.02463848,\n",
       "        -0.05477528, -0.02924088, -0.005537  , -0.02464475,  0.01103811,\n",
       "        -0.02981456, -0.02623453, -0.02508248, -0.01569686, -0.00224679,\n",
       "        -0.00877089,  0.00239848, -0.01239247, -0.02897178,  0.0050111 ,\n",
       "        -0.04984612,  0.02699887,  0.0174885 , -0.01673968, -0.04638872,\n",
       "        -0.00755335, -0.01949364, -0.00048271, -0.01640195, -0.04356496,\n",
       "        -0.05943833, -0.01200214, -0.00639121,  0.00842367, -0.04260808]],\n",
       "      dtype=float32)"
      ]
     },
     "execution_count": 16,
     "metadata": {},
     "output_type": "execute_result"
    }
   ],
   "source": [
    "v_tf[:,11]"
   ]
  },
  {
   "cell_type": "code",
   "execution_count": 111,
   "metadata": {},
   "outputs": [
    {
     "data": {
      "text/plain": [
       "tensor([0.0053])"
      ]
     },
     "execution_count": 111,
     "metadata": {},
     "output_type": "execute_result"
    }
   ],
   "source": [
    "new_v[0,0] - v_tf[:,11,0]"
   ]
  },
  {
   "cell_type": "code",
   "execution_count": 12,
   "metadata": {},
   "outputs": [
    {
     "name": "stdout",
     "output_type": "stream",
     "text": [
      "Initial Loss: 0.1897\n"
     ]
    },
    {
     "data": {
      "image/png": "[encoded data removed]",
      "text/plain": [
       "<Figure size 720x432 with 1 Axes>"
      ]
     },
     "metadata": {
      "needs_background": "dark"
     },
     "output_type": "display_data"
    }
   ],
   "source": [
    "plt.figure('signals', (10,6))\n",
    "plt.plot( output[0].detach().numpy() )\n",
    "plt.plot( target_sinusoidal_outputs[0].detach().numpy() )\n",
    "plt.xlabel( 'Time steps',size=20 )\n",
    "plt.ylabel( 'Signal amplitude',size=20 )\n",
    "print( 'Initial Loss: {:.4f}'.format( compute_loss( z, w_out, target_sinusoidal_outputs )[0] ) )"
   ]
  },
  {
   "cell_type": "code",
   "execution_count": 17,
   "metadata": {
    "collapsed": true
   },
   "outputs": [
    {
     "data": {
      "text/plain": [
       "[<matplotlib.lines.Line2D at 0x25c72acb6a0>]"
      ]
     },
     "execution_count": 17,
     "metadata": {},
     "output_type": "execute_result"
    },
    {
     "data": {
      "image/png": "[encoded data removed]",
      "text/plain": [
       "<Figure size 432x288 with 1 Axes>"
      ]
     },
     "metadata": {
      "needs_background": "dark"
     },
     "output_type": "display_data"
    }
   ],
   "source": [
    "plt.plot( eligibility_traces_convolved_w_in.detach().numpy()[0,:,0,1] )"
   ]
  },
  {
   "cell_type": "code",
   "execution_count": 73,
   "metadata": {},
   "outputs": [],
   "source": [
    "def pseudo_derivative(v_scaled, dampening_factor):\n",
    "    '''\n",
    "    Define the pseudo derivative used to derive through spikes.\n",
    "    :param v_scaled: scaled version of the voltage being 0 at threshold and -1 at rest\n",
    "    :param dampening_factor: parameter that stabilizes learning\n",
    "    :return:\n",
    "    '''\n",
    "    return torch.maximum(1 - torch.abs(v_scaled), torch.tensor(0)) * dampening_factor"
   ]
  },
  {
   "cell_type": "code",
   "execution_count": 95,
   "metadata": {},
   "outputs": [],
   "source": [
    "post_term = pseudo_derivative(torch.from_numpy(results_values['v_scaled']), params['dampening_factor']) / params['thr'] "
   ]
  },
  {
   "cell_type": "code",
   "execution_count": 96,
   "metadata": {},
   "outputs": [
    {
     "data": {
      "text/plain": [
       "tensor(-0.0009)"
      ]
     },
     "execution_count": 96,
     "metadata": {},
     "output_type": "execute_result"
    }
   ],
   "source": [
    "torch.sum( post_term - results_values['post_term'] )"
   ]
  },
  {
   "cell_type": "code",
   "execution_count": 85,
   "metadata": {},
   "outputs": [
    {
     "data": {
      "text/plain": [
       "(array([0, 0, 0, ..., 0, 0, 0], dtype=int64),\n",
       " array([  0,   0,   0, ..., 199, 199, 199], dtype=int64),\n",
       " array([ 7, 29, 30, ..., 72, 94, 96], dtype=int64))"
      ]
     },
     "execution_count": 85,
     "metadata": {},
     "output_type": "execute_result"
    }
   ],
   "source": [
    "np.where( post_term - results_values['post_term'] )"
   ]
  },
  {
   "cell_type": "code",
   "execution_count": 88,
   "metadata": {},
   "outputs": [
    {
     "data": {
      "text/plain": [
       "(0.9630782008171082, 0.96307826)"
      ]
     },
     "execution_count": 88,
     "metadata": {},
     "output_type": "execute_result"
    }
   ],
   "source": [
    "post_term[0,0,7].item() , results_values['post_term'][0,0,7]"
   ]
  },
  {
   "cell_type": "code",
   "execution_count": 17,
   "metadata": {},
   "outputs": [
    {
     "data": {
      "text/plain": [
       "-2.601530058043977e-08"
      ]
     },
     "execution_count": 17,
     "metadata": {},
     "output_type": "execute_result"
    }
   ],
   "source": [
    "torch.tensor(decay).item() - cell._decay"
   ]
  },
  {
   "cell_type": "code",
   "execution_count": 18,
   "metadata": {},
   "outputs": [
    {
     "data": {
      "text/plain": [
       "tensor(0.)"
      ]
     },
     "execution_count": 18,
     "metadata": {},
     "output_type": "execute_result"
    }
   ],
   "source": [
    "torch.tensor(decay) - cell._decay"
   ]
  },
  {
   "cell_type": "code",
   "execution_count": 19,
   "metadata": {},
   "outputs": [],
   "source": [
    "pre_term_w_in_item = exp_convolve(input_spikes, decay=torch.tensor(decay).item())"
   ]
  },
  {
   "cell_type": "code",
   "execution_count": 97,
   "metadata": {},
   "outputs": [
    {
     "data": {
      "text/plain": [
       "tensor(0.)"
      ]
     },
     "execution_count": 97,
     "metadata": {},
     "output_type": "execute_result"
    }
   ],
   "source": [
    "torch.sum( pre_term_w_in_item - results_values['pre_term_w_in'] )"
   ]
  },
  {
   "cell_type": "code",
   "execution_count": 98,
   "metadata": {},
   "outputs": [
    {
     "data": {
      "text/plain": [
       "tensor(0.)"
      ]
     },
     "execution_count": 98,
     "metadata": {},
     "output_type": "execute_result"
    }
   ],
   "source": [
    "torch.sum( pre_term_w_rec - results_values['pre_term_w_rec'] )"
   ]
  },
  {
   "cell_type": "code",
   "execution_count": 39,
   "metadata": {},
   "outputs": [
    {
     "data": {
      "text/plain": [
       "tensor(0.)"
      ]
     },
     "execution_count": 39,
     "metadata": {},
     "output_type": "execute_result"
    }
   ],
   "source": [
    "torch.sum( pre_term_w_out - results_values['pre_term_w_out'] )"
   ]
  },
  {
   "cell_type": "code",
   "execution_count": 99,
   "metadata": {},
   "outputs": [
    {
     "data": {
      "text/plain": [
       "tensor(-0.0009)"
      ]
     },
     "execution_count": 99,
     "metadata": {},
     "output_type": "execute_result"
    }
   ],
   "source": [
    "torch.sum( post_term - results_values['post_term'] )"
   ]
  },
  {
   "cell_type": "code",
   "execution_count": 106,
   "metadata": {},
   "outputs": [
    {
     "data": {
      "text/plain": [
       "tensor(-0.0040)"
      ]
     },
     "execution_count": 106,
     "metadata": {},
     "output_type": "execute_result"
    }
   ],
   "source": [
    "torch.sum( eligibility_traces_w_in - results_values['eligibility_traces_w_in'] )"
   ]
  },
  {
   "cell_type": "code",
   "execution_count": 107,
   "metadata": {},
   "outputs": [
    {
     "data": {
      "text/plain": [
       "tensor(-0.0019)"
      ]
     },
     "execution_count": 107,
     "metadata": {},
     "output_type": "execute_result"
    }
   ],
   "source": [
    "torch.sum( eligibility_traces_w_rec - results_values['eligibility_traces_w_rec'] )"
   ]
  },
  {
   "cell_type": "code",
   "execution_count": 108,
   "metadata": {},
   "outputs": [
    {
     "data": {
      "text/plain": [
       "tensor(-0.0033)"
      ]
     },
     "execution_count": 108,
     "metadata": {},
     "output_type": "execute_result"
    }
   ],
   "source": [
    "torch.sum( eligibility_traces_convolved_w_in - results_values['eligibility_traces_convolved_w_in'] )"
   ]
  },
  {
   "cell_type": "code",
   "execution_count": 109,
   "metadata": {},
   "outputs": [
    {
     "data": {
      "text/plain": [
       "tensor(-0.0016)"
      ]
     },
     "execution_count": 109,
     "metadata": {},
     "output_type": "execute_result"
    }
   ],
   "source": [
    "torch.sum( eligibility_traces_convolved_w_rec - results_values['eligibility_traces_convolved_w_rec'] )"
   ]
  },
  {
   "cell_type": "code",
   "execution_count": 110,
   "metadata": {},
   "outputs": [
    {
     "data": {
      "text/plain": [
       "tensor(0.)"
      ]
     },
     "execution_count": 110,
     "metadata": {},
     "output_type": "execute_result"
    }
   ],
   "source": [
    "torch.sum( learning_signals - results_values['learning_signals'] )"
   ]
  },
  {
   "cell_type": "code",
   "execution_count": 28,
   "metadata": {},
   "outputs": [
    {
     "data": {
      "text/plain": [
       "[<matplotlib.lines.Line2D at 0x1e94cc35128>]"
      ]
     },
     "execution_count": 28,
     "metadata": {},
     "output_type": "execute_result"
    },
    {
     "data": {
      "image/png": "[encoded data removed]",
      "text/plain": [
       "<Figure size 432x288 with 1 Axes>"
      ]
     },
     "metadata": {
      "needs_background": "dark"
     },
     "output_type": "display_data"
    }
   ],
   "source": [
    "plt.plot( pre_term_w_in.detach().numpy()[0,:,0] )\n",
    "plt.plot( results_values['pre_term_w_in'][0,:,0] )"
   ]
  },
  {
   "cell_type": "code",
   "execution_count": 105,
   "metadata": {},
   "outputs": [],
   "source": [
    "##### This is the Pytorch graph computed over tensorflow results\n",
    "\n",
    "# Calculation of the Elegibility Trace\n",
    "v_scaled = (results_values['v'] - params['thr']) / params['thr'] # voltage scaled to be 0 at threshold and -1 at rest\n",
    "post_term = pseudo_derivative(torch.from_numpy(results_values['v_scaled']), params['dampening_factor']) / params['thr'] # non-linear function of the voltage\n",
    "#post_term = torch.from_numpy(results_values['post_term'])\n",
    "z_previous_time = shift_by_one_time_step(torch.from_numpy(results_values['z'])) # z(t-1) instead of z(t)\n",
    "\n",
    "pre_term_w_in = exp_convolve(input_spikes, decay=torch.tensor(decay).item())\n",
    "pre_term_w_rec = exp_convolve(z_previous_time, decay=torch.tensor(decay).item())\n",
    "pre_term_w_out = exp_convolve(torch.from_numpy(results_values['z']), decay=torch.tensor(decay).item())\n",
    "\n",
    "# for PCMprop develop next lines\n",
    "#pre_term_w_in = pcm_convolve(input_spikes, nu)\n",
    "#pre_term_w_rec = pcm_convolve(z_previous_time, nu)\n",
    "#pre_term_w_out = pcm_convolve(z, nu)\n",
    "\n",
    "eligibility_traces_w_in = post_term[:, :, None, :] * pre_term_w_in[:, :, :, None]\n",
    "eligibility_traces_w_rec = post_term[:, :, None, :] * pre_term_w_rec[:, :, :, None]\n",
    "\n",
    "# To define the gradient of the readout error,\n",
    "# the eligibility traces are smoothed with the same filter as the readout\n",
    "eligibility_traces_convolved_w_in = exp_convolve(eligibility_traces_w_in, decay=readout_decay)\n",
    "eligibility_traces_convolved_w_rec = exp_convolve(eligibility_traces_w_rec, decay=readout_decay)\n",
    "\n",
    "# To define the gradient of the regularization error defined on the averaged firing rate,\n",
    "# the eligibility traces should be averaged over time\n",
    "eligibility_traces_averaged_w_in = torch.mean(eligibility_traces_w_in, dim=(0, 1))\n",
    "eligibility_traces_averaged_w_rec = torch.mean(eligibility_traces_w_rec, dim=(0, 1))\n",
    "\n",
    "\n",
    "B_random = torch.from_numpy(results_values['w_out']) # better performance is obtained with the true error feed-backs\n",
    "output_error = torch.from_numpy(results_values['output']) - target_sinusoidal_outputs\n",
    "learning_signals = torch.einsum('btk,jk->btj', output_error, B_random)\n",
    "\n",
    "# gradients of the main loss with respect to the weights\n",
    "dloss_dw_out = torch.sum(output_error[:, :, None, :] * pre_term_w_out[:, :, :, None], dim=(0, 1))\n",
    "dloss_dw_in = torch.sum(learning_signals[:, :, None, :] * eligibility_traces_convolved_w_in, dim=(0, 1))\n",
    "dloss_dw_rec = torch.sum(learning_signals[:, :, None, :] * eligibility_traces_convolved_w_rec, dim=(0, 1))\n",
    "\n",
    "# gradients of the regularization loss with respect to the weights\n",
    "dreg_loss_dw_in = torch.from_numpy(results_values['average_firing_rate_error']) * eligibility_traces_averaged_w_in\n",
    "dreg_loss_dw_rec = torch.from_numpy(results_values['average_firing_rate_error']) * eligibility_traces_averaged_w_rec\n",
    "\n",
    "# combine the gradients\n",
    "dloss_dw_in += dreg_loss_dw_in * params['reg']\n",
    "dloss_dw_rec += dreg_loss_dw_rec * params['reg']\n",
    "\n",
    "# Somewhat important detail: self connection are disabled therefore gradients on the diagonal are zeros\n",
    "mask_autotapse = torch.diag(torch.ones(params['n_rec'])).bool()\n",
    "dloss_dw_rec = torch.where(mask_autotapse, torch.zeros_like(dloss_dw_rec), dloss_dw_rec)\n",
    "\n",
    "# put the resulting gradients into lists\n",
    "var_list = [cell.w_in_var, cell.w_rec_var, w_out]\n",
    "true_gradients = torch.autograd.grad(overall_loss, var_list, retain_graph=True)\n",
    "eprop_gradients = [dloss_dw_in, dloss_dw_rec, dloss_dw_out]\n",
    "\n",
    "# performing the weight update\n",
    "#with torch.no_grad():\n",
    "#    for n, var in enumerate(var_list): \n",
    "#        var -= params['learning_rate'] * eprop_gradients[n]"
   ]
  },
  {
   "cell_type": "code",
   "execution_count": 91,
   "metadata": {},
   "outputs": [
    {
     "data": {
      "text/plain": [
       "0.00015638769"
      ]
     },
     "execution_count": 91,
     "metadata": {},
     "output_type": "execute_result"
    }
   ],
   "source": [
    "np.sum(true_grads_np_out - eprop_gradients[2].detach().numpy())"
   ]
  },
  {
   "cell_type": "code",
   "execution_count": 92,
   "metadata": {},
   "outputs": [
    {
     "data": {
      "text/plain": [
       "-1.987206e-05"
      ]
     },
     "execution_count": 92,
     "metadata": {},
     "output_type": "execute_result"
    }
   ],
   "source": [
    "np.sum(true_grads_np_rec - eprop_gradients[1].detach().numpy())"
   ]
  },
  {
   "cell_type": "code",
   "execution_count": 93,
   "metadata": {},
   "outputs": [
    {
     "data": {
      "text/plain": [
       "-0.00016979314"
      ]
     },
     "execution_count": 93,
     "metadata": {},
     "output_type": "execute_result"
    }
   ],
   "source": [
    "np.sum(true_grads_np_in - eprop_gradients[0].detach().numpy())"
   ]
  },
  {
   "cell_type": "code",
   "execution_count": 58,
   "metadata": {},
   "outputs": [],
   "source": [
    "# Calculation of the Elegibility Trace\n",
    "v_scaled = (v - params['thr']) / params['thr'] # voltage scaled to be 0 at threshold and -1 at rest\n",
    "post_term = pseudo_derivative(v_scaled, params['dampening_factor']) / params['thr'] # non-linear function of the voltage\n",
    "z_previous_time = shift_by_one_time_step(z) # z(t-1) instead of z(t)\n",
    "\n",
    "pre_term_w_in = exp_convolve(input_spikes, decay=torch.tensor(decay).item())\n",
    "pre_term_w_rec = exp_convolve(z_previous_time, decay=torch.tensor(decay).item())\n",
    "pre_term_w_out = exp_convolve(z, decay=torch.tensor(decay).item())\n",
    "\n",
    "# for PCMprop develop next lines\n",
    "#pre_term_w_in = pcm_convolve(input_spikes, nu)\n",
    "#pre_term_w_rec = pcm_convolve(z_previous_time, nu)\n",
    "#pre_term_w_out = pcm_convolve(z, nu)\n",
    "\n",
    "eligibility_traces_w_in = post_term[:, :, None, :] * pre_term_w_in[:, :, :, None]\n",
    "eligibility_traces_w_rec = post_term[:, :, None, :] * pre_term_w_rec[:, :, :, None]\n",
    "\n",
    "# To define the gradient of the readout error,\n",
    "# the eligibility traces are smoothed with the same filter as the readout\n",
    "eligibility_traces_convolved_w_in = exp_convolve(eligibility_traces_w_in, decay=readout_decay)\n",
    "eligibility_traces_convolved_w_rec = exp_convolve(eligibility_traces_w_rec, decay=readout_decay)\n",
    "\n",
    "# To define the gradient of the regularization error defined on the averaged firing rate,\n",
    "# the eligibility traces should be averaged over time\n",
    "eligibility_traces_averaged_w_in = torch.mean(eligibility_traces_w_in, dim=(0, 1))\n",
    "eligibility_traces_averaged_w_rec = torch.mean(eligibility_traces_w_rec, dim=(0, 1))\n",
    "\n",
    "if params['random_feedback']:\n",
    "    B_random = torch.from_numpy(np.random.randn(params['n_rec'], params['n_out']) / np.sqrt(params['n_rec']) ).type(dtype=dtype)\n",
    "else:\n",
    "    B_random = w_out.clone() # better performance is obtained with the true error feed-backs\n",
    "learning_signals = torch.einsum('btk,jk->btj', output_error, B_random)\n",
    "\n",
    "# gradients of the main loss with respect to the weights\n",
    "dloss_dw_out = torch.sum(output_error[:, :, None, :] * pre_term_w_out[:, :, :, None], dim=(0, 1))\n",
    "dloss_dw_in = torch.sum(learning_signals[:, :, None, :] * eligibility_traces_convolved_w_in, dim=(0, 1))\n",
    "dloss_dw_rec = torch.sum(learning_signals[:, :, None, :] * eligibility_traces_convolved_w_rec, dim=(0, 1))\n",
    "\n",
    "# gradients of the regularization loss with respect to the weights\n",
    "dreg_loss_dw_in = average_firing_rate_error * eligibility_traces_averaged_w_in\n",
    "dreg_loss_dw_rec = average_firing_rate_error * eligibility_traces_averaged_w_rec\n",
    "\n",
    "# combine the gradients\n",
    "dloss_dw_in += dreg_loss_dw_in * params['reg']\n",
    "dloss_dw_rec += dreg_loss_dw_rec * params['reg']\n",
    "\n",
    "# Somewhat important detail: self connection are disabled therefore gradients on the diagonal are zeros\n",
    "mask_autotapse = torch.diag(torch.ones(params['n_rec'])).bool()\n",
    "dloss_dw_rec = torch.where(mask_autotapse, torch.zeros_like(dloss_dw_rec), dloss_dw_rec)\n",
    "\n",
    "# put the resulting gradients into lists\n",
    "var_list = [cell.w_in_var, cell.w_rec_var, w_out]\n",
    "true_gradients = torch.autograd.grad(overall_loss, var_list, retain_graph=True)\n",
    "eprop_gradients = [dloss_dw_in, dloss_dw_rec, dloss_dw_out]\n",
    "\n",
    "# performing the weight update\n",
    "#with torch.no_grad():\n",
    "#    for n, var in enumerate(var_list): \n",
    "#        var -= params['learning_rate'] * eprop_gradients[n]"
   ]
  },
  {
   "cell_type": "code",
   "execution_count": 59,
   "metadata": {},
   "outputs": [
    {
     "data": {
      "text/plain": [
       "tensor(-8430.7236, grad_fn=<SumBackward0>)"
      ]
     },
     "execution_count": 59,
     "metadata": {},
     "output_type": "execute_result"
    }
   ],
   "source": [
    "torch.sum( true_gradients[0] - eprop_gradients[0] )"
   ]
  },
  {
   "cell_type": "code",
   "execution_count": 60,
   "metadata": {},
   "outputs": [
    {
     "data": {
      "text/plain": [
       "tensor(-4079.9082, grad_fn=<SumBackward0>)"
      ]
     },
     "execution_count": 60,
     "metadata": {},
     "output_type": "execute_result"
    }
   ],
   "source": [
    "torch.sum( true_gradients[1] - eprop_gradients[1] )"
   ]
  },
  {
   "cell_type": "code",
   "execution_count": 61,
   "metadata": {},
   "outputs": [
    {
     "data": {
      "text/plain": [
       "tensor(225.7521, grad_fn=<SumBackward0>)"
      ]
     },
     "execution_count": 61,
     "metadata": {},
     "output_type": "execute_result"
    }
   ],
   "source": [
    "torch.sum( true_gradients[2] - eprop_gradients[2] )"
   ]
  },
  {
   "cell_type": "code",
   "execution_count": 35,
   "metadata": {
    "collapsed": true
   },
   "outputs": [
    {
     "ename": "NameError",
     "evalue": "name 'dw_out' is not defined",
     "output_type": "error",
     "traceback": [
      "\u001b[1;31m---------------------------------------------------------------------------\u001b[0m",
      "\u001b[1;31mNameError\u001b[0m                                 Traceback (most recent call last)",
      "\u001b[1;32m<ipython-input-35-bec848d4212e>\u001b[0m in \u001b[0;36m<module>\u001b[1;34m\u001b[0m\n\u001b[1;32m----> 1\u001b[1;33m \u001b[0mdloss_dw_out\u001b[0m\u001b[1;33m/\u001b[0m \u001b[1;33m(\u001b[0m\u001b[0mdw_out\u001b[0m\u001b[1;33m+\u001b[0m\u001b[1;36m1e-12\u001b[0m\u001b[1;33m)\u001b[0m\u001b[1;33m\u001b[0m\u001b[1;33m\u001b[0m\u001b[0m\n\u001b[0m",
      "\u001b[1;31mNameError\u001b[0m: name 'dw_out' is not defined"
     ]
    }
   ],
   "source": [
    "dloss_dw_out/ (dw_out+1e-12)"
   ]
  },
  {
   "cell_type": "code",
   "execution_count": 44,
   "metadata": {},
   "outputs": [
    {
     "data": {
      "text/plain": [
       "tensor([[202.4128],\n",
       "        [204.5433],\n",
       "        [196.0178],\n",
       "        [216.2755],\n",
       "        [  0.0000],\n",
       "        [214.6801],\n",
       "        [206.4326],\n",
       "        [  0.0000],\n",
       "        [198.5385],\n",
       "        [213.7240],\n",
       "        [202.9833],\n",
       "        [205.7735],\n",
       "        [152.7896],\n",
       "        [211.6492],\n",
       "        [  0.0000],\n",
       "        [  0.0000],\n",
       "        [208.4000],\n",
       "        [  0.0000],\n",
       "        [  0.0000],\n",
       "        [  0.0000],\n",
       "        [  0.0000],\n",
       "        [  0.0000],\n",
       "        [211.4648],\n",
       "        [195.7058],\n",
       "        [196.7012],\n",
       "        [202.4102],\n",
       "        [198.8755],\n",
       "        [207.7237],\n",
       "        [206.0452],\n",
       "        [207.8608],\n",
       "        [220.2620],\n",
       "        [211.1163],\n",
       "        [  0.0000],\n",
       "        [153.7349],\n",
       "        [218.6583],\n",
       "        [  0.0000],\n",
       "        [203.9365],\n",
       "        [211.5282],\n",
       "        [  0.0000],\n",
       "        [196.4719],\n",
       "        [221.6388],\n",
       "        [196.8865],\n",
       "        [148.9655],\n",
       "        [  0.0000],\n",
       "        [200.8723],\n",
       "        [146.9386],\n",
       "        [212.5110],\n",
       "        [276.1340],\n",
       "        [208.9384],\n",
       "        [  0.0000],\n",
       "        [196.2431],\n",
       "        [205.0669],\n",
       "        [209.2809],\n",
       "        [216.8058],\n",
       "        [202.5863],\n",
       "        [210.1313],\n",
       "        [140.1299],\n",
       "        [  0.0000],\n",
       "        [256.5858],\n",
       "        [200.1237],\n",
       "        [209.0338],\n",
       "        [204.2673],\n",
       "        [204.9361],\n",
       "        [213.8806],\n",
       "        [  0.0000],\n",
       "        [198.6231],\n",
       "        [203.4705],\n",
       "        [203.4705],\n",
       "        [200.4219],\n",
       "        [202.1015],\n",
       "        [211.7595],\n",
       "        [202.0082],\n",
       "        [217.4361],\n",
       "        [214.4637],\n",
       "        [203.3540],\n",
       "        [203.0438],\n",
       "        [204.9667],\n",
       "        [211.1735],\n",
       "        [  0.0000],\n",
       "        [219.9185],\n",
       "        [206.2376],\n",
       "        [196.1759],\n",
       "        [206.0592],\n",
       "        [220.0326],\n",
       "        [  0.0000],\n",
       "        [210.6069],\n",
       "        [218.8841],\n",
       "        [  0.0000],\n",
       "        [  0.0000],\n",
       "        [205.4552],\n",
       "        [203.4237],\n",
       "        [197.5625],\n",
       "        [203.9289],\n",
       "        [  0.0000],\n",
       "        [205.2498],\n",
       "        [  0.0000],\n",
       "        [212.2144],\n",
       "        [211.0729],\n",
       "        [213.2710],\n",
       "        [209.0344]], grad_fn=<DivBackward0>)"
      ]
     },
     "execution_count": 44,
     "metadata": {},
     "output_type": "execute_result"
    }
   ],
   "source": [
    "eprop_gradients[2] / (true_gradients[2]+1e-12)"
   ]
  },
  {
   "cell_type": "code",
   "execution_count": 154,
   "metadata": {},
   "outputs": [],
   "source": [
    "dw_out = torch.autograd.grad( loss, w_out, retain_graph=True )[0]"
   ]
  },
  {
   "cell_type": "code",
   "execution_count": 162,
   "metadata": {},
   "outputs": [],
   "source": [
    "# This is the analytical expression for dw_out\n",
    "dw_out_ = torch.mean( torch.abs( target_sinusoidal_outputs - output )*z, dim=(0,1) )/2"
   ]
  },
  {
   "cell_type": "code",
   "execution_count": null,
   "metadata": {},
   "outputs": [],
   "source": []
  },
  {
   "cell_type": "markdown",
   "metadata": {},
   "source": [
    "# Learning Loop"
   ]
  },
  {
   "cell_type": "code",
   "execution_count": 170,
   "metadata": {},
   "outputs": [],
   "source": [
    "params['eprop_or_bptt'] = 'eprop'\n",
    "params['stop_z_gradients'] = True\n",
    "params['random_feedback'] = False\n",
    "params['learning_rate'] = 0.0005\n",
    "\n",
    "cell = LightLIF(n_in=params['n_in'], n_rec=params['n_rec'], tau=tau_m, thr=thr, dt=dt,\n",
    "                dampening_factor=params['dampening_factor'],\n",
    "                stop_z_gradients=params['stop_z_gradients'])\n",
    "\n",
    "w_out = torch.nn.Parameter( torch.randn( params['n_rec'], params['n_out'] )\n",
    "                           /np.sqrt( params['n_rec'] ) ).type(dtype=dtype)\n"
   ]
  },
  {
   "cell_type": "code",
   "execution_count": 177,
   "metadata": {},
   "outputs": [],
   "source": [
    "loss_hist = []\n",
    "t_train = 0\n",
    "for k_iter in range(100):\n",
    "    # train\n",
    "    t0 = time()\n",
    "    z, v = forward( input_spikes )\n",
    "    overall_loss, average_firing_rate_error, output_error, output = compute_loss( z, w_out, target_sinusoidal_outputs )\n",
    "    loss_hist.append( overall_loss.item() )\n",
    "    if params['eprop_or_bptt'] == 'bptt':\n",
    "        gradients, var_list = calculate_true_gradient(overall_loss)\n",
    "    elif params['eprop_or_bptt'] == 'eprop':\n",
    "        gradients, var_list = calculate_eligibility_trace(v,z, output_error, average_firing_rate_error)\n",
    "    elif params['eprop_or_bptt'] == 'pcmprop':\n",
    "        gradients, var_list = calculate_eligibility_trace_pcm(v,z, output_error, average_firing_rate_error )\n",
    "    weight_update_SGD( gradients, var_list )\n",
    "    t_train = time() - t0"
   ]
  },
  {
   "cell_type": "code",
   "execution_count": 178,
   "metadata": {},
   "outputs": [
    {
     "data": {
      "text/plain": [
       "[<matplotlib.lines.Line2D at 0x25c03601c18>]"
      ]
     },
     "execution_count": 178,
     "metadata": {},
     "output_type": "execute_result"
    },
    {
     "data": {
      "image/png": "[encoded data removed]",
      "text/plain": [
       "<Figure size 432x288 with 1 Axes>"
      ]
     },
     "metadata": {
      "needs_background": "dark"
     },
     "output_type": "display_data"
    }
   ],
   "source": [
    "plt.plot( loss_hist )"
   ]
  },
  {
   "cell_type": "code",
   "execution_count": 179,
   "metadata": {},
   "outputs": [
    {
     "name": "stdout",
     "output_type": "stream",
     "text": [
      "Loss: 0.0500\n"
     ]
    },
    {
     "data": {
      "image/png": "[encoded data removed]",
      "text/plain": [
       "<Figure size 720x432 with 1 Axes>"
      ]
     },
     "metadata": {
      "needs_background": "dark"
     },
     "output_type": "display_data"
    }
   ],
   "source": [
    "z, v = forward( input_spikes )\n",
    "output_current = torch.einsum('bti,ik->btk', z, w_out)\n",
    "output = exp_convolve(output_current, decay=readout_decay)\n",
    "\n",
    "plt.figure('signals', (10,6))\n",
    "plt.plot( output[0].detach().numpy() )\n",
    "plt.plot( target_sinusoidal_outputs[0].detach().numpy() )\n",
    "plt.xlabel( 'Time steps',size=20 )\n",
    "plt.ylabel( 'Signal amplitude',size=20 )\n",
    "print( 'Loss: {:.4f}'.format( compute_loss( z, w_out, target_sinusoidal_outputs )[0] ) )"
   ]
  },
  {
   "cell_type": "markdown",
   "metadata": {},
   "source": [
    "# Learning loop with interactive plot"
   ]
  },
  {
   "cell_type": "code",
   "execution_count": 25,
   "metadata": {},
   "outputs": [
    {
     "data": {
      "image/png": "[encoded data removed]",
      "text/plain": [
       "<Figure size 576x864 with 7 Axes>"
      ]
     },
     "metadata": {
      "needs_background": "dark"
     },
     "output_type": "display_data"
    }
   ],
   "source": [
    "# Open an interactive matplotlib window to plot in real time\n",
    "if params['do_plot']:\n",
    "    plt.ion()\n",
    "    fig, ax_list = plt.subplots(2 + params['n_out'] + 4, figsize=(8, 12), sharex=True)"
   ]
  },
  {
   "cell_type": "code",
   "execution_count": 26,
   "metadata": {},
   "outputs": [],
   "source": [
    "def update_plot(plot_result_values, batch=0, n_max_neuron_per_raster=40):\n",
    "    \"\"\"\n",
    "    This function iterates the matplotlib figure on every call.\n",
    "    It plots the data for a fixed sequence that should be representative of the expected computation\n",
    "    :return:\n",
    "    \"\"\"\n",
    "\n",
    "    # Clear the axis to print new plots\n",
    "    for k in range(ax_list.shape[0]):\n",
    "        ax = ax_list[k]\n",
    "        ax.clear()\n",
    "\n",
    "    # PLOT Input signals\n",
    "    for k, spike_ref in enumerate(['input_spikes', 'z']):\n",
    "        spikes = plot_result_values[spike_ref][batch]\n",
    "\n",
    "        spikes = spikes[:, :n_max_neuron_per_raster]\n",
    "        ax = ax_list[k]\n",
    "\n",
    "        ax.imshow(spikes.T, aspect='auto', cmap='hot_r')\n",
    "        ax.set_xlim([0, FLAGS.seq_len])\n",
    "        ax.set_ylabel(spike_ref)\n",
    "\n",
    "    output = plot_result_values['output'][batch]\n",
    "    for i in range(output.shape[1]):\n",
    "        ax = ax_list[i + 2]\n",
    "        ax.set_yticks([-1, 0, 1])\n",
    "        # ax.set_ylim([-1., 1.])\n",
    "        ax.set_ylabel('Output')\n",
    "\n",
    "        ax.plot(np.arange(FLAGS.seq_len), target_sinusoidal_outputs[batch, :, i], linestyle='dashed', label='Target',\n",
    "                alpha=0.8)\n",
    "        ax.plot(np.arange(FLAGS.seq_len), output[:, i], linestyle='solid', label='Target', alpha=0.8)\n",
    "\n",
    "        ax.set_xlim([0, FLAGS.seq_len])\n",
    "\n",
    "    el_data_list = []\n",
    "    i_pre = j_post = 0\n",
    "    while i_pre == j_post or np.all(el_data_list[2] == 0):\n",
    "        # choose i and j to find an interesting synapse representative of what is happening\n",
    "        i_pre = np.random.randint(FLAGS.n_rec)\n",
    "        j_post = np.random.randint(FLAGS.n_rec)\n",
    "        el_data_list = [results_values['pre_term'][batch, :, i_pre],\n",
    "                        results_values['post_term'][batch, :, j_post],\n",
    "                        results_values['eligibility_traces'][batch, :, i_pre, j_post],\n",
    "                        results_values['learning_signals'][batch, :, j_post],\n",
    "                        ]\n",
    "\n",
    "    name_list = ['term pre',\n",
    "                 'term post',\n",
    "                 'eligibility trace',\n",
    "                 'learning signal']\n",
    "\n",
    "    for k, name, data in zip(range(len(name_list)), name_list, el_data_list):\n",
    "        ax = ax_list[2 + FLAGS.n_out + k]\n",
    "        ax.plot(np.arange(FLAGS.seq_len), data)\n",
    "        ax.set_xlim([0, FLAGS.seq_len])\n",
    "        ax.set_ylabel(name)\n",
    "\n",
    "    ax_list[2 + n_out + 0].set_ylim([0, 0.25])\n",
    "    ax_list[2 + n_out + 1].set_ylim([0, 10.])\n",
    "    ax_list[2 + n_out + 2].set_ylim([0, 1.])\n",
    "    ax_list[2 + n_out + 3].set_ylim([-0.08, 0.08])\n",
    "\n",
    "    ax.set_xlabel('Time in ms')\n",
    "    # To plot with interactive python one need to wait one second to the time to draw the axis\n",
    "    if do_plot:\n",
    "        plt.draw()\n",
    "        plt.pause(0.1)"
   ]
  },
  {
   "cell_type": "code",
   "execution_count": null,
   "metadata": {},
   "outputs": [],
   "source": [
    "# Loss list to store the loss over itertaions\n",
    "loss_list = []\n",
    "t_train = 0\n",
    "for k_iter in range(n_iter):\n",
    "\n",
    "    # train\n",
    "    t0 = time()\n",
    "    # optimizer.zero_grad()\n",
    "    z, v = forward( input_spikes )\n",
    "    w_out = torch.nn.Parameter( torch.randn( n_rec, n_out )/np.sqrt( n_rec ) ).type(dtype=dtype)\n",
    "    overall_loss = compute_loss( w_out, target_sinusoidal_outputs )\n",
    "    if params['eprop_or_bptt'] == 'bptt':\n",
    "        gradients, var_list = calculate_true_gradient(overall_loss)\n",
    "    elif params['eprop_or_bptt'] == 'eprop':\n",
    "        gradients, var_list = calculate_eligibility_trace(overall_loss)\n",
    "    elif params['eprop_or_bptt'] == 'pcmprop':\n",
    "        gradients, var_list = calculate_eligibility_trace_pcm(overall_loss)\n",
    "    weight_update_SGD( gradients, var_list )\n",
    "    t_train = time() - t0\n",
    "\n",
    "    if np.mod(k_iter, print_every) == 0:\n",
    "\n",
    "        if gradient_check:\n",
    "            if not (stop_z_gradients):\n",
    "                print('Gradient check is disabled because the gradients of inter neuron dependencies are not blocked.')\n",
    "            elif seq_len > 20:\n",
    "                print('Gradient check is disabled for sequence lengths larger than 20 time steps')\n",
    "            else:\n",
    "                print('Gradient check')\n",
    "                eprop_grads_np, true_grads_np = sess.run([eprop_gradients, true_gradients])\n",
    "                check_gradients(var_list, eprop_grads_np, true_grads_np)\n",
    "\n",
    "        print('''Iteration {}, loss {:.3g} reg loss {:.3g}'''.format(k_iter, results_values['loss'],\n",
    "                                                                     results_values['loss_reg']))\n",
    "        loss_list.append(results_values['loss'])\n",
    "\n",
    "        def get_stats(v):\n",
    "            if np.size(v) == 0:\n",
    "                return np.nan, np.nan, np.nan, np.nan\n",
    "            min_val = np.min(v)\n",
    "            max_val = np.max(v)\n",
    "\n",
    "            k_min = np.sum(v == min_val)\n",
    "            k_max = np.sum(v == max_val)\n",
    "\n",
    "            return np.min(v), np.max(v), np.mean(v), np.std(v), k_min, k_max\n",
    "\n",
    "\n",
    "        firing_rate_stats = get_stats(results_values['av'] * 1000)\n",
    "\n",
    "        print('''\n",
    "            firing rate (Hz)  min {:.0f} \\t max {:.0f} \\t average {:.0f} +- std {:.0f} (averaged over batches and time)\n",
    "            comput. time (s)  training {:.2g} \\t validation {:.2g}'''.format(\n",
    "            firing_rate_stats[0], firing_rate_stats[1], firing_rate_stats[2], firing_rate_stats[3],\n",
    "            t_train, t_valid,\n",
    "        ))\n",
    "\n",
    "        if do_plot:\n",
    "            update_plot(results_values)\n",
    "\n",
    "plt.ioff()\n",
    "update_plot(results_values)\n",
    "\n",
    "fig, ax_res = plt.subplots()\n",
    "ax_res.plot(loss_list)\n",
    "ax_res.set_xlabel('iterations')\n",
    "ax_res.set_ylabel('mean square error')\n",
    "\n",
    "plt.show()"
   ]
  },
  {
   "cell_type": "code",
   "execution_count": null,
   "metadata": {},
   "outputs": [],
   "source": []
  },
  {
   "cell_type": "code",
   "execution_count": null,
   "metadata": {},
   "outputs": [],
   "source": [
    "results_tensors = {\n",
    "    'loss': loss,\n",
    "    'loss_reg': loss_reg,\n",
    "    'overall_loss': overall_loss,\n",
    "\n",
    "    'input_spikes': input_spikes,\n",
    "    'z': z,\n",
    "    'av': av,\n",
    "\n",
    "    'pre_term': pre_term_w_rec,\n",
    "    'post_term': post_term,\n",
    "    'eligibility_traces': eligibility_traces_convolved_w_rec,\n",
    "    'learning_signals': learning_signals,\n",
    "\n",
    "    'output': output,\n",
    "}"
   ]
  },
  {
   "cell_type": "code",
   "execution_count": null,
   "metadata": {},
   "outputs": [],
   "source": []
  }
 ],
 "metadata": {
  "kernelspec": {
   "display_name": "Python 3",
   "language": "python",
   "name": "python3"
  },
  "language_info": {
   "codemirror_mode": {
    "name": "ipython",
    "version": 3
   },
   "file_extension": ".py",
   "mimetype": "text/x-python",
   "name": "python",
   "nbconvert_exporter": "python",
   "pygments_lexer": "ipython3",
   "version": "3.7.3"
  }
 },
 "nbformat": 4,
 "nbformat_minor": 2
}
